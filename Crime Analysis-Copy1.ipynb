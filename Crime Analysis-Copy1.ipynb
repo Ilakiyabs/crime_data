{
 "cells": [
  {
   "cell_type": "code",
   "execution_count": 1,
   "id": "f80479a8",
   "metadata": {},
   "outputs": [],
   "source": [
    "import numpy as np\n",
    "import pandas as pd\n",
    "import matplotlib.pyplot as plt\n",
    "import seaborn as sns\n",
    "%matplotlib inline"
   ]
  },
  {
   "cell_type": "code",
   "execution_count": 2,
   "id": "9b0670d8",
   "metadata": {},
   "outputs": [],
   "source": [
    "df = pd.read_csv('Crime_Data.csv')\n"
   ]
  },
  {
   "cell_type": "code",
   "execution_count": 3,
   "id": "b42d08d9",
   "metadata": {},
   "outputs": [
    {
     "data": {
      "text/plain": [
       "<bound method NDFrame.head of        Arrest Year Arrest Date  Arrest Hour  Age Defendant Race  \\\n",
       "0             2021   1/01/2021            0   38          BLACK   \n",
       "1             2021   1/01/2021            0   31          BLACK   \n",
       "2             2021   1/01/2021            0   35          BLACK   \n",
       "3             2021   1/01/2021            0   31          BLACK   \n",
       "4             2021   1/01/2021            0   21          BLACK   \n",
       "...            ...         ...          ...  ...            ...   \n",
       "15648         2021   9/09/2021           18   19          BLACK   \n",
       "15649         2021   9/09/2021           20   61          BLACK   \n",
       "15650         2021   9/09/2021           20   21          WHITE   \n",
       "15651         2021   9/09/2021           21   30          BLACK   \n",
       "15652         2021   9/09/2021           23   27          BLACK   \n",
       "\n",
       "      Defendant Ethnicity Defendant Sex     Arrest Category  Offense Latitude  \\\n",
       "0                 UNKNOWN          MALE  Damage to Property            38.927   \n",
       "1            NOT HISPANIC          MALE      Simple Assault            38.925   \n",
       "2            NOT HISPANIC          MALE   Weapon Violations            38.900   \n",
       "3            NOT HISPANIC          MALE   Weapon Violations            38.849   \n",
       "4            NOT HISPANIC          MALE   Weapon Violations            38.882   \n",
       "...                   ...           ...                 ...               ...   \n",
       "15648             UNKNOWN        FEMALE        Other Crimes            38.887   \n",
       "15649        NOT HISPANIC          MALE      Simple Assault            38.899   \n",
       "15650            HISPANIC          MALE      Simple Assault            38.953   \n",
       "15651        NOT HISPANIC          MALE        Other Crimes            38.896   \n",
       "15652        NOT HISPANIC          MALE  Traffic Violations            38.895   \n",
       "\n",
       "       Offense Longitude  \n",
       "0                -77.006  \n",
       "1                -77.033  \n",
       "2                -76.930  \n",
       "3                -76.976  \n",
       "4                -76.925  \n",
       "...                  ...  \n",
       "15648            -76.936  \n",
       "15649            -76.978  \n",
       "15650            -77.027  \n",
       "15651            -76.949  \n",
       "15652            -76.927  \n",
       "\n",
       "[15653 rows x 10 columns]>"
      ]
     },
     "execution_count": 3,
     "metadata": {},
     "output_type": "execute_result"
    }
   ],
   "source": [
    "df.head"
   ]
  },
  {
   "cell_type": "code",
   "execution_count": 4,
   "id": "b3c3630c",
   "metadata": {},
   "outputs": [
    {
     "data": {
      "text/plain": [
       "(15653, 10)"
      ]
     },
     "execution_count": 4,
     "metadata": {},
     "output_type": "execute_result"
    }
   ],
   "source": [
    "df.shape"
   ]
  },
  {
   "cell_type": "code",
   "execution_count": 5,
   "id": "3d64a8fe",
   "metadata": {},
   "outputs": [
    {
     "data": {
      "text/plain": [
       "Index(['Arrest Year', 'Arrest Date', 'Arrest Hour', 'Age', 'Defendant Race',\n",
       "       'Defendant Ethnicity', 'Defendant Sex', 'Arrest Category',\n",
       "       'Offense Latitude', 'Offense Longitude'],\n",
       "      dtype='object')"
      ]
     },
     "execution_count": 5,
     "metadata": {},
     "output_type": "execute_result"
    }
   ],
   "source": [
    "df.columns"
   ]
  },
  {
   "cell_type": "code",
   "execution_count": 6,
   "id": "c90b34bf",
   "metadata": {},
   "outputs": [
    {
     "data": {
      "text/html": [
       "<div>\n",
       "<style scoped>\n",
       "    .dataframe tbody tr th:only-of-type {\n",
       "        vertical-align: middle;\n",
       "    }\n",
       "\n",
       "    .dataframe tbody tr th {\n",
       "        vertical-align: top;\n",
       "    }\n",
       "\n",
       "    .dataframe thead th {\n",
       "        text-align: right;\n",
       "    }\n",
       "</style>\n",
       "<table border=\"1\" class=\"dataframe\">\n",
       "  <thead>\n",
       "    <tr style=\"text-align: right;\">\n",
       "      <th></th>\n",
       "      <th>Arrest Year</th>\n",
       "      <th>Arrest Date</th>\n",
       "      <th>Arrest Hour</th>\n",
       "      <th>Age</th>\n",
       "      <th>Defendant Race</th>\n",
       "      <th>Defendant Ethnicity</th>\n",
       "      <th>Defendant Sex</th>\n",
       "      <th>Arrest Category</th>\n",
       "      <th>Offense Latitude</th>\n",
       "      <th>Offense Longitude</th>\n",
       "    </tr>\n",
       "  </thead>\n",
       "  <tbody>\n",
       "    <tr>\n",
       "      <th>0</th>\n",
       "      <td>False</td>\n",
       "      <td>False</td>\n",
       "      <td>False</td>\n",
       "      <td>False</td>\n",
       "      <td>False</td>\n",
       "      <td>False</td>\n",
       "      <td>False</td>\n",
       "      <td>False</td>\n",
       "      <td>False</td>\n",
       "      <td>False</td>\n",
       "    </tr>\n",
       "    <tr>\n",
       "      <th>1</th>\n",
       "      <td>False</td>\n",
       "      <td>False</td>\n",
       "      <td>False</td>\n",
       "      <td>False</td>\n",
       "      <td>False</td>\n",
       "      <td>False</td>\n",
       "      <td>False</td>\n",
       "      <td>False</td>\n",
       "      <td>False</td>\n",
       "      <td>False</td>\n",
       "    </tr>\n",
       "    <tr>\n",
       "      <th>2</th>\n",
       "      <td>False</td>\n",
       "      <td>False</td>\n",
       "      <td>False</td>\n",
       "      <td>False</td>\n",
       "      <td>False</td>\n",
       "      <td>False</td>\n",
       "      <td>False</td>\n",
       "      <td>False</td>\n",
       "      <td>False</td>\n",
       "      <td>False</td>\n",
       "    </tr>\n",
       "    <tr>\n",
       "      <th>3</th>\n",
       "      <td>False</td>\n",
       "      <td>False</td>\n",
       "      <td>False</td>\n",
       "      <td>False</td>\n",
       "      <td>False</td>\n",
       "      <td>False</td>\n",
       "      <td>False</td>\n",
       "      <td>False</td>\n",
       "      <td>False</td>\n",
       "      <td>False</td>\n",
       "    </tr>\n",
       "    <tr>\n",
       "      <th>4</th>\n",
       "      <td>False</td>\n",
       "      <td>False</td>\n",
       "      <td>False</td>\n",
       "      <td>False</td>\n",
       "      <td>False</td>\n",
       "      <td>False</td>\n",
       "      <td>False</td>\n",
       "      <td>False</td>\n",
       "      <td>False</td>\n",
       "      <td>False</td>\n",
       "    </tr>\n",
       "    <tr>\n",
       "      <th>...</th>\n",
       "      <td>...</td>\n",
       "      <td>...</td>\n",
       "      <td>...</td>\n",
       "      <td>...</td>\n",
       "      <td>...</td>\n",
       "      <td>...</td>\n",
       "      <td>...</td>\n",
       "      <td>...</td>\n",
       "      <td>...</td>\n",
       "      <td>...</td>\n",
       "    </tr>\n",
       "    <tr>\n",
       "      <th>15648</th>\n",
       "      <td>False</td>\n",
       "      <td>False</td>\n",
       "      <td>False</td>\n",
       "      <td>False</td>\n",
       "      <td>False</td>\n",
       "      <td>False</td>\n",
       "      <td>False</td>\n",
       "      <td>False</td>\n",
       "      <td>False</td>\n",
       "      <td>False</td>\n",
       "    </tr>\n",
       "    <tr>\n",
       "      <th>15649</th>\n",
       "      <td>False</td>\n",
       "      <td>False</td>\n",
       "      <td>False</td>\n",
       "      <td>False</td>\n",
       "      <td>False</td>\n",
       "      <td>False</td>\n",
       "      <td>False</td>\n",
       "      <td>False</td>\n",
       "      <td>False</td>\n",
       "      <td>False</td>\n",
       "    </tr>\n",
       "    <tr>\n",
       "      <th>15650</th>\n",
       "      <td>False</td>\n",
       "      <td>False</td>\n",
       "      <td>False</td>\n",
       "      <td>False</td>\n",
       "      <td>False</td>\n",
       "      <td>False</td>\n",
       "      <td>False</td>\n",
       "      <td>False</td>\n",
       "      <td>False</td>\n",
       "      <td>False</td>\n",
       "    </tr>\n",
       "    <tr>\n",
       "      <th>15651</th>\n",
       "      <td>False</td>\n",
       "      <td>False</td>\n",
       "      <td>False</td>\n",
       "      <td>False</td>\n",
       "      <td>False</td>\n",
       "      <td>False</td>\n",
       "      <td>False</td>\n",
       "      <td>False</td>\n",
       "      <td>False</td>\n",
       "      <td>False</td>\n",
       "    </tr>\n",
       "    <tr>\n",
       "      <th>15652</th>\n",
       "      <td>False</td>\n",
       "      <td>False</td>\n",
       "      <td>False</td>\n",
       "      <td>False</td>\n",
       "      <td>False</td>\n",
       "      <td>False</td>\n",
       "      <td>False</td>\n",
       "      <td>False</td>\n",
       "      <td>False</td>\n",
       "      <td>False</td>\n",
       "    </tr>\n",
       "  </tbody>\n",
       "</table>\n",
       "<p>15653 rows × 10 columns</p>\n",
       "</div>"
      ],
      "text/plain": [
       "       Arrest Year  Arrest Date  Arrest Hour    Age  Defendant Race  \\\n",
       "0            False        False        False  False           False   \n",
       "1            False        False        False  False           False   \n",
       "2            False        False        False  False           False   \n",
       "3            False        False        False  False           False   \n",
       "4            False        False        False  False           False   \n",
       "...            ...          ...          ...    ...             ...   \n",
       "15648        False        False        False  False           False   \n",
       "15649        False        False        False  False           False   \n",
       "15650        False        False        False  False           False   \n",
       "15651        False        False        False  False           False   \n",
       "15652        False        False        False  False           False   \n",
       "\n",
       "       Defendant Ethnicity  Defendant Sex  Arrest Category  Offense Latitude  \\\n",
       "0                    False          False            False             False   \n",
       "1                    False          False            False             False   \n",
       "2                    False          False            False             False   \n",
       "3                    False          False            False             False   \n",
       "4                    False          False            False             False   \n",
       "...                    ...            ...              ...               ...   \n",
       "15648                False          False            False             False   \n",
       "15649                False          False            False             False   \n",
       "15650                False          False            False             False   \n",
       "15651                False          False            False             False   \n",
       "15652                False          False            False             False   \n",
       "\n",
       "       Offense Longitude  \n",
       "0                  False  \n",
       "1                  False  \n",
       "2                  False  \n",
       "3                  False  \n",
       "4                  False  \n",
       "...                  ...  \n",
       "15648              False  \n",
       "15649              False  \n",
       "15650              False  \n",
       "15651              False  \n",
       "15652              False  \n",
       "\n",
       "[15653 rows x 10 columns]"
      ]
     },
     "execution_count": 6,
     "metadata": {},
     "output_type": "execute_result"
    }
   ],
   "source": [
    "df.isnull()"
   ]
  },
  {
   "cell_type": "code",
   "execution_count": 7,
   "id": "d388fd87",
   "metadata": {},
   "outputs": [],
   "source": [
    "features = ['Arrest Year', 'Arrest Date', 'Arrest Hour', 'Age', 'Defendant Race','Defendant Ethnicity', 'Defendant Sex', 'Arrest Category','Offense Latitude', 'Offense Longitude']"
   ]
  },
  {
   "cell_type": "code",
   "execution_count": 8,
   "id": "7e973599",
   "metadata": {},
   "outputs": [
    {
     "name": "stdout",
     "output_type": "stream",
     "text": [
      "Empty DataFrame\n",
      "Columns: [Arrest Year, Arrest Date, Arrest Hour, Age, Defendant Race, Defendant Ethnicity, Defendant Sex, Arrest Category, Offense Latitude, Offense Longitude]\n",
      "Index: []\n",
      "Empty DataFrame\n",
      "Columns: [Arrest Year, Arrest Date, Arrest Hour, Age, Defendant Race, Defendant Ethnicity, Defendant Sex, Arrest Category, Offense Latitude, Offense Longitude]\n",
      "Index: []\n",
      "Empty DataFrame\n",
      "Columns: [Arrest Year, Arrest Date, Arrest Hour, Age, Defendant Race, Defendant Ethnicity, Defendant Sex, Arrest Category, Offense Latitude, Offense Longitude]\n",
      "Index: []\n",
      "Empty DataFrame\n",
      "Columns: [Arrest Year, Arrest Date, Arrest Hour, Age, Defendant Race, Defendant Ethnicity, Defendant Sex, Arrest Category, Offense Latitude, Offense Longitude]\n",
      "Index: []\n",
      "Empty DataFrame\n",
      "Columns: [Arrest Year, Arrest Date, Arrest Hour, Age, Defendant Race, Defendant Ethnicity, Defendant Sex, Arrest Category, Offense Latitude, Offense Longitude]\n",
      "Index: []\n",
      "Empty DataFrame\n",
      "Columns: [Arrest Year, Arrest Date, Arrest Hour, Age, Defendant Race, Defendant Ethnicity, Defendant Sex, Arrest Category, Offense Latitude, Offense Longitude]\n",
      "Index: []\n",
      "Empty DataFrame\n",
      "Columns: [Arrest Year, Arrest Date, Arrest Hour, Age, Defendant Race, Defendant Ethnicity, Defendant Sex, Arrest Category, Offense Latitude, Offense Longitude]\n",
      "Index: []\n",
      "Empty DataFrame\n",
      "Columns: [Arrest Year, Arrest Date, Arrest Hour, Age, Defendant Race, Defendant Ethnicity, Defendant Sex, Arrest Category, Offense Latitude, Offense Longitude]\n",
      "Index: []\n",
      "       Arrest Year Arrest Date  Arrest Hour  Age Defendant Race  \\\n",
      "1353          2021  10/01/2021           23   33          BLACK   \n",
      "1398          2021  10/11/2021            8   50          BLACK   \n",
      "1529          2021    10/14/21           12   22          BLACK   \n",
      "1533          2021    10/14/21           13   42          BLACK   \n",
      "1554          2021    10/14/21           23   39          WHITE   \n",
      "1572          2021    10/15/21           12   60          BLACK   \n",
      "1684          2021    10/18/21            8   57          BLACK   \n",
      "1919          2021    10/22/21           19   26          BLACK   \n",
      "2108          2021    10/27/21           11   51          BLACK   \n",
      "2241          2021  10/03/2021           17   41          BLACK   \n",
      "2503          2021  10/07/2021           13   22          BLACK   \n",
      "3779          2021  12/01/2021            7   37          BLACK   \n",
      "12624         2021     7/29/21            9   26          BLACK   \n",
      "13131         2021   8/10/2021           17   30          BLACK   \n",
      "13359         2021     8/15/21           23   36          BLACK   \n",
      "13360         2021     8/15/21           23   57          BLACK   \n",
      "13432         2021     8/17/21           18   33          WHITE   \n",
      "13533         2021   8/02/2021           10   28          BLACK   \n",
      "13760         2021     8/24/21            7   37          BLACK   \n",
      "15115         2021     9/25/21           17   35          BLACK   \n",
      "15179         2021     9/27/21            8   37          BLACK   \n",
      "\n",
      "      Defendant Ethnicity Defendant Sex                     Arrest Category  \\\n",
      "1353         NOT HISPANIC          MALE                      Simple Assault   \n",
      "1398              UNKNOWN          MALE                      Simple Assault   \n",
      "1529         NOT HISPANIC          MALE                           Narcotics   \n",
      "1533              UNKNOWN          MALE                   Weapon Violations   \n",
      "1554              UNKNOWN          MALE                      Simple Assault   \n",
      "1572              UNKNOWN          MALE                     Property Crimes   \n",
      "1684         NOT HISPANIC          MALE                             Robbery   \n",
      "1919         NOT HISPANIC          MALE                      Simple Assault   \n",
      "2108              UNKNOWN          MALE                            Homicide   \n",
      "2241         NOT HISPANIC          MALE   Driving/Boating While Intoxicated   \n",
      "2503              UNKNOWN          MALE                   Weapon Violations   \n",
      "3779         NOT HISPANIC          MALE   Release Violations/Fugitive (Fug)   \n",
      "12624        NOT HISPANIC          MALE                  Damage to Property   \n",
      "13131        NOT HISPANIC        FEMALE  Release Violations/Fugitive (Warr)   \n",
      "13359        NOT HISPANIC          MALE                      Simple Assault   \n",
      "13360        NOT HISPANIC        FEMALE                  Damage to Property   \n",
      "13432             UNKNOWN          MALE                      Simple Assault   \n",
      "13533        NOT HISPANIC        FEMALE     Assault with a Dangerous Weapon   \n",
      "13760        NOT HISPANIC        FEMALE                        Other Crimes   \n",
      "15115        NOT HISPANIC          MALE   Driving/Boating While Intoxicated   \n",
      "15179        NOT HISPANIC          MALE  Release Violations/Fugitive (Warr)   \n",
      "\n",
      "       Offense Latitude  Offense Longitude  \n",
      "1353                NaN                NaN  \n",
      "1398                NaN                NaN  \n",
      "1529                NaN                NaN  \n",
      "1533                NaN                NaN  \n",
      "1554                NaN                NaN  \n",
      "1572                NaN                NaN  \n",
      "1684                NaN                NaN  \n",
      "1919                NaN                NaN  \n",
      "2108                NaN                NaN  \n",
      "2241                NaN                NaN  \n",
      "2503                NaN                NaN  \n",
      "3779                NaN                NaN  \n",
      "12624               NaN                NaN  \n",
      "13131               NaN                NaN  \n",
      "13359               NaN                NaN  \n",
      "13360               NaN                NaN  \n",
      "13432               NaN                NaN  \n",
      "13533               NaN                NaN  \n",
      "13760               NaN                NaN  \n",
      "15115               NaN                NaN  \n",
      "15179               NaN                NaN  \n",
      "       Arrest Year Arrest Date  Arrest Hour  Age Defendant Race  \\\n",
      "1353          2021  10/01/2021           23   33          BLACK   \n",
      "1398          2021  10/11/2021            8   50          BLACK   \n",
      "1529          2021    10/14/21           12   22          BLACK   \n",
      "1533          2021    10/14/21           13   42          BLACK   \n",
      "1554          2021    10/14/21           23   39          WHITE   \n",
      "1572          2021    10/15/21           12   60          BLACK   \n",
      "1684          2021    10/18/21            8   57          BLACK   \n",
      "1919          2021    10/22/21           19   26          BLACK   \n",
      "2108          2021    10/27/21           11   51          BLACK   \n",
      "2241          2021  10/03/2021           17   41          BLACK   \n",
      "2503          2021  10/07/2021           13   22          BLACK   \n",
      "3779          2021  12/01/2021            7   37          BLACK   \n",
      "12624         2021     7/29/21            9   26          BLACK   \n",
      "13131         2021   8/10/2021           17   30          BLACK   \n",
      "13359         2021     8/15/21           23   36          BLACK   \n",
      "13360         2021     8/15/21           23   57          BLACK   \n",
      "13432         2021     8/17/21           18   33          WHITE   \n",
      "13533         2021   8/02/2021           10   28          BLACK   \n",
      "13760         2021     8/24/21            7   37          BLACK   \n",
      "15115         2021     9/25/21           17   35          BLACK   \n",
      "15179         2021     9/27/21            8   37          BLACK   \n",
      "\n",
      "      Defendant Ethnicity Defendant Sex                     Arrest Category  \\\n",
      "1353         NOT HISPANIC          MALE                      Simple Assault   \n",
      "1398              UNKNOWN          MALE                      Simple Assault   \n",
      "1529         NOT HISPANIC          MALE                           Narcotics   \n",
      "1533              UNKNOWN          MALE                   Weapon Violations   \n",
      "1554              UNKNOWN          MALE                      Simple Assault   \n",
      "1572              UNKNOWN          MALE                     Property Crimes   \n",
      "1684         NOT HISPANIC          MALE                             Robbery   \n",
      "1919         NOT HISPANIC          MALE                      Simple Assault   \n",
      "2108              UNKNOWN          MALE                            Homicide   \n",
      "2241         NOT HISPANIC          MALE   Driving/Boating While Intoxicated   \n",
      "2503              UNKNOWN          MALE                   Weapon Violations   \n",
      "3779         NOT HISPANIC          MALE   Release Violations/Fugitive (Fug)   \n",
      "12624        NOT HISPANIC          MALE                  Damage to Property   \n",
      "13131        NOT HISPANIC        FEMALE  Release Violations/Fugitive (Warr)   \n",
      "13359        NOT HISPANIC          MALE                      Simple Assault   \n",
      "13360        NOT HISPANIC        FEMALE                  Damage to Property   \n",
      "13432             UNKNOWN          MALE                      Simple Assault   \n",
      "13533        NOT HISPANIC        FEMALE     Assault with a Dangerous Weapon   \n",
      "13760        NOT HISPANIC        FEMALE                        Other Crimes   \n",
      "15115        NOT HISPANIC          MALE   Driving/Boating While Intoxicated   \n",
      "15179        NOT HISPANIC          MALE  Release Violations/Fugitive (Warr)   \n",
      "\n",
      "       Offense Latitude  Offense Longitude  \n",
      "1353                NaN                NaN  \n",
      "1398                NaN                NaN  \n",
      "1529                NaN                NaN  \n",
      "1533                NaN                NaN  \n",
      "1554                NaN                NaN  \n",
      "1572                NaN                NaN  \n",
      "1684                NaN                NaN  \n",
      "1919                NaN                NaN  \n",
      "2108                NaN                NaN  \n",
      "2241                NaN                NaN  \n",
      "2503                NaN                NaN  \n",
      "3779                NaN                NaN  \n",
      "12624               NaN                NaN  \n",
      "13131               NaN                NaN  \n",
      "13359               NaN                NaN  \n",
      "13360               NaN                NaN  \n",
      "13432               NaN                NaN  \n",
      "13533               NaN                NaN  \n",
      "13760               NaN                NaN  \n",
      "15115               NaN                NaN  \n",
      "15179               NaN                NaN  \n"
     ]
    }
   ],
   "source": [
    "for feature in features:\n",
    "    null_check = pd.isnull(df[feature])\n",
    "    print(df[null_check])"
   ]
  },
  {
   "cell_type": "code",
   "execution_count": 9,
   "id": "eebb9052",
   "metadata": {},
   "outputs": [
    {
     "data": {
      "text/plain": [
       "(15632, 10)"
      ]
     },
     "execution_count": 9,
     "metadata": {},
     "output_type": "execute_result"
    }
   ],
   "source": [
    "df = df.dropna()\n",
    "df.shape"
   ]
  },
  {
   "cell_type": "code",
   "execution_count": 10,
   "id": "6641878b",
   "metadata": {},
   "outputs": [
    {
     "data": {
      "text/plain": [
       "array(['Damage to Property', 'Simple Assault', 'Weapon Violations',\n",
       "       'Narcotics', 'Other Crimes', 'Driving/Boating While Intoxicated',\n",
       "       'Traffic Violations', 'Sex Offenses', 'Theft', 'Property Crimes',\n",
       "       'Release Violations/Fugitive (Warr)',\n",
       "       'Release Violations/Fugitive (Fug)',\n",
       "       'Offenses Against Family & Children', 'Liquor Law Violations',\n",
       "       'Assault with a Dangerous Weapon', 'Homicide',\n",
       "       'Assault on a Police Officer', 'Burglary', 'Vending Violations',\n",
       "       'Robbery', 'Motor Vehicle Theft', 'Sex Abuse',\n",
       "       'Aggravated Assault', 'Disorderly Conduct', 'Gambling',\n",
       "       'Kidnapping', 'Fraud and Financial Crimes',\n",
       "       'Fraud and Financial Crimes (Frau)', 'Theft from Auto',\n",
       "       'Prostitution', 'Fraud and Financial Crimes (Forg)',\n",
       "       'Fraud and Financial Crimes (Coun)'], dtype=object)"
      ]
     },
     "execution_count": 10,
     "metadata": {},
     "output_type": "execute_result"
    }
   ],
   "source": [
    "df['Arrest Category'].unique()"
   ]
  },
  {
   "cell_type": "code",
   "execution_count": 11,
   "id": "248b0f00",
   "metadata": {},
   "outputs": [
    {
     "data": {
      "text/html": [
       "<div>\n",
       "<style scoped>\n",
       "    .dataframe tbody tr th:only-of-type {\n",
       "        vertical-align: middle;\n",
       "    }\n",
       "\n",
       "    .dataframe tbody tr th {\n",
       "        vertical-align: top;\n",
       "    }\n",
       "\n",
       "    .dataframe thead th {\n",
       "        text-align: right;\n",
       "    }\n",
       "</style>\n",
       "<table border=\"1\" class=\"dataframe\">\n",
       "  <thead>\n",
       "    <tr style=\"text-align: right;\">\n",
       "      <th></th>\n",
       "      <th>Defendant Sex</th>\n",
       "      <th>Numbers</th>\n",
       "    </tr>\n",
       "  </thead>\n",
       "  <tbody>\n",
       "    <tr>\n",
       "      <th>0</th>\n",
       "      <td>FEMALE</td>\n",
       "      <td>3419</td>\n",
       "    </tr>\n",
       "    <tr>\n",
       "      <th>1</th>\n",
       "      <td>MALE</td>\n",
       "      <td>12207</td>\n",
       "    </tr>\n",
       "    <tr>\n",
       "      <th>2</th>\n",
       "      <td>UNKNOWN</td>\n",
       "      <td>6</td>\n",
       "    </tr>\n",
       "  </tbody>\n",
       "</table>\n",
       "</div>"
      ],
      "text/plain": [
       "  Defendant Sex  Numbers\n",
       "0        FEMALE     3419\n",
       "1          MALE    12207\n",
       "2       UNKNOWN        6"
      ]
     },
     "execution_count": 11,
     "metadata": {},
     "output_type": "execute_result"
    }
   ],
   "source": [
    "df_sex = df.groupby('Defendant Sex').size().reset_index(name = 'Numbers')\n",
    "df_sex"
   ]
  },
  {
   "cell_type": "code",
   "execution_count": 12,
   "id": "06d1d912",
   "metadata": {},
   "outputs": [
    {
     "data": {
      "image/png": "[encoded data removed]",
      "text/plain": [
       "<Figure size 800x500 with 1 Axes>"
      ]
     },
     "metadata": {},
     "output_type": "display_data"
    }
   ],
   "source": [
    "plt.figure(figsize = (8, 5))\n",
    "plt.xlabel('Defendant Sex')\n",
    "plt.title('Arrests by Sex')\n",
    "plt.ylabel('Numbers')\n",
    "x = df_sex['Defendant Sex']\n",
    "y = df_sex['Numbers']\n",
    "plt.bar(x, y)\n",
    "plt.grid(which = 'both', linestyle = ':')\n",
    "plt.savefig('defendant_sex.jpg', dpi = 480)"
   ]
  },
  {
   "cell_type": "code",
   "execution_count": null,
   "id": "e262a428",
   "metadata": {},
   "outputs": [],
   "source": [
    "#Contionous Data Classification"
   ]
  },
  {
   "cell_type": "code",
   "execution_count": 13,
   "id": "3376711f",
   "metadata": {},
   "outputs": [
    {
     "data": {
      "text/html": [
       "<div>\n",
       "<style scoped>\n",
       "    .dataframe tbody tr th:only-of-type {\n",
       "        vertical-align: middle;\n",
       "    }\n",
       "\n",
       "    .dataframe tbody tr th {\n",
       "        vertical-align: top;\n",
       "    }\n",
       "\n",
       "    .dataframe thead th {\n",
       "        text-align: right;\n",
       "    }\n",
       "</style>\n",
       "<table border=\"1\" class=\"dataframe\">\n",
       "  <thead>\n",
       "    <tr style=\"text-align: right;\">\n",
       "      <th></th>\n",
       "      <th>Age</th>\n",
       "      <th>Numbers</th>\n",
       "    </tr>\n",
       "  </thead>\n",
       "  <tbody>\n",
       "    <tr>\n",
       "      <th>0</th>\n",
       "      <td>18</td>\n",
       "      <td>275</td>\n",
       "    </tr>\n",
       "    <tr>\n",
       "      <th>1</th>\n",
       "      <td>19</td>\n",
       "      <td>311</td>\n",
       "    </tr>\n",
       "    <tr>\n",
       "      <th>2</th>\n",
       "      <td>20</td>\n",
       "      <td>390</td>\n",
       "    </tr>\n",
       "    <tr>\n",
       "      <th>3</th>\n",
       "      <td>21</td>\n",
       "      <td>483</td>\n",
       "    </tr>\n",
       "    <tr>\n",
       "      <th>4</th>\n",
       "      <td>22</td>\n",
       "      <td>447</td>\n",
       "    </tr>\n",
       "    <tr>\n",
       "      <th>...</th>\n",
       "      <td>...</td>\n",
       "      <td>...</td>\n",
       "    </tr>\n",
       "    <tr>\n",
       "      <th>64</th>\n",
       "      <td>83</td>\n",
       "      <td>1</td>\n",
       "    </tr>\n",
       "    <tr>\n",
       "      <th>65</th>\n",
       "      <td>85</td>\n",
       "      <td>1</td>\n",
       "    </tr>\n",
       "    <tr>\n",
       "      <th>66</th>\n",
       "      <td>88</td>\n",
       "      <td>1</td>\n",
       "    </tr>\n",
       "    <tr>\n",
       "      <th>67</th>\n",
       "      <td>120</td>\n",
       "      <td>4</td>\n",
       "    </tr>\n",
       "    <tr>\n",
       "      <th>68</th>\n",
       "      <td>121</td>\n",
       "      <td>1</td>\n",
       "    </tr>\n",
       "  </tbody>\n",
       "</table>\n",
       "<p>69 rows × 2 columns</p>\n",
       "</div>"
      ],
      "text/plain": [
       "    Age  Numbers\n",
       "0    18      275\n",
       "1    19      311\n",
       "2    20      390\n",
       "3    21      483\n",
       "4    22      447\n",
       "..  ...      ...\n",
       "64   83        1\n",
       "65   85        1\n",
       "66   88        1\n",
       "67  120        4\n",
       "68  121        1\n",
       "\n",
       "[69 rows x 2 columns]"
      ]
     },
     "execution_count": 13,
     "metadata": {},
     "output_type": "execute_result"
    }
   ],
   "source": [
    "df_age = df.groupby('Age').size().reset_index(name = 'Numbers')\n",
    "df_age"
   ]
  },
  {
   "cell_type": "code",
   "execution_count": 14,
   "id": "5a7a3bdd",
   "metadata": {},
   "outputs": [
    {
     "data": {
      "image/png": "[encoded data removed]",
      "text/plain": [
       "<Figure size 800x500 with 1 Axes>"
      ]
     },
     "metadata": {},
     "output_type": "display_data"
    }
   ],
   "source": [
    "plt.figure(figsize = (8, 5))\n",
    "plt.xlabel('Defendant Age')\n",
    "plt.title('Arrests by Age')\n",
    "plt.ylabel('Numbers')\n",
    "x = df_age['Age']\n",
    "y = df_age['Numbers']\n",
    "plt.bar(x, y)\n",
    "plt.grid(which = 'both', linestyle = ':')\n",
    "#plt.savefig('defendant_sex.jpg', dpi = 480)"
   ]
  },
  {
   "cell_type": "code",
   "execution_count": 15,
   "id": "2173ffb5",
   "metadata": {},
   "outputs": [
    {
     "name": "stderr",
     "output_type": "stream",
     "text": [
      "C:\\Users\\sarav\\anaconda3\\Lib\\site-packages\\seaborn\\_oldcore.py:1498: FutureWarning: is_categorical_dtype is deprecated and will be removed in a future version. Use isinstance(dtype, CategoricalDtype) instead\n",
      "  if pd.api.types.is_categorical_dtype(vector):\n",
      "C:\\Users\\sarav\\anaconda3\\Lib\\site-packages\\seaborn\\_oldcore.py:1119: FutureWarning: use_inf_as_na option is deprecated and will be removed in a future version. Convert inf values to NaN before operating instead.\n",
      "  with pd.option_context('mode.use_inf_as_na', True):\n",
      "C:\\Users\\sarav\\anaconda3\\Lib\\site-packages\\seaborn\\axisgrid.py:118: UserWarning: The figure layout has changed to tight\n",
      "  self._figure.tight_layout(*args, **kwargs)\n"
     ]
    },
    {
     "data": {
      "text/plain": [
       "<seaborn.axisgrid.FacetGrid at 0x19b736fb610>"
      ]
     },
     "execution_count": 15,
     "metadata": {},
     "output_type": "execute_result"
    },
    {
     "data": {
      "image/png": "[encoded data removed]",
      "text/plain": [
       "<Figure size 500x500 with 1 Axes>"
      ]
     },
     "metadata": {},
     "output_type": "display_data"
    }
   ],
   "source": [
    "sns.displot(df['Age'], kde = True, bins = 8)"
   ]
  },
  {
   "cell_type": "code",
   "execution_count": 16,
   "id": "5514787e",
   "metadata": {},
   "outputs": [
    {
     "name": "stdout",
     "output_type": "stream",
     "text": [
      "18 121\n"
     ]
    }
   ],
   "source": [
    "df_min = df['Age'].min()\n",
    "df_max = df['Age'].max()\n",
    "print(df_min, df_max)"
   ]
  },
  {
   "cell_type": "code",
   "execution_count": null,
   "id": "52dc0b54",
   "metadata": {},
   "outputs": [],
   "source": [
    "# Detecting Anomalies"
   ]
  },
  {
   "cell_type": "code",
   "execution_count": 17,
   "id": "04a145ce",
   "metadata": {},
   "outputs": [
    {
     "data": {
      "text/plain": [
       "<Axes: >"
      ]
     },
     "execution_count": 17,
     "metadata": {},
     "output_type": "execute_result"
    },
    {
     "data": {
      "image/png": "[encoded data removed]",
      "text/plain": [
       "<Figure size 640x480 with 1 Axes>"
      ]
     },
     "metadata": {},
     "output_type": "display_data"
    }
   ],
   "source": [
    "sns.boxplot(df['Age'])"
   ]
  },
  {
   "cell_type": "code",
   "execution_count": null,
   "id": "dd06de24",
   "metadata": {},
   "outputs": [],
   "source": [
    "#Calculate the upper and the lower limits"
   ]
  },
  {
   "cell_type": "code",
   "execution_count": 18,
   "id": "a0cb09dd",
   "metadata": {},
   "outputs": [],
   "source": [
    "q_1 = df['Age'].quantile(0.25)\n",
    "q_3 = df['Age'].quantile(0.75)\n",
    "iqr = q_3 - q_1\n",
    "lower = q_1 - 1.5 * iqr\n",
    "upper = q_3 + 1.5 * iqr"
   ]
  },
  {
   "cell_type": "code",
   "execution_count": null,
   "id": "f304f671",
   "metadata": {},
   "outputs": [],
   "source": [
    "#Create a boolean values to show outliers"
   ]
  },
  {
   "cell_type": "code",
   "execution_count": 19,
   "id": "e3bf6750",
   "metadata": {},
   "outputs": [],
   "source": [
    "upper_array = np.where(df['Age'] >= upper)[0]\n",
    "lower_array = np.where(df['Age'] <= lower)[0]"
   ]
  },
  {
   "cell_type": "code",
   "execution_count": null,
   "id": "eac8c80e",
   "metadata": {},
   "outputs": [],
   "source": [
    "#Eliminate Outliers"
   ]
  },
  {
   "cell_type": "code",
   "execution_count": 20,
   "id": "65c5392d",
   "metadata": {},
   "outputs": [
    {
     "name": "stderr",
     "output_type": "stream",
     "text": [
      "C:\\Users\\sarav\\AppData\\Local\\Temp\\ipykernel_16076\\3686508436.py:1: SettingWithCopyWarning: \n",
      "A value is trying to be set on a copy of a slice from a DataFrame\n",
      "\n",
      "See the caveats in the documentation: https://pandas.pydata.org/pandas-docs/stable/user_guide/indexing.html#returning-a-view-versus-a-copy\n",
      "  df.drop(index = upper_array, inplace = True)\n",
      "C:\\Users\\sarav\\AppData\\Local\\Temp\\ipykernel_16076\\3686508436.py:2: SettingWithCopyWarning: \n",
      "A value is trying to be set on a copy of a slice from a DataFrame\n",
      "\n",
      "See the caveats in the documentation: https://pandas.pydata.org/pandas-docs/stable/user_guide/indexing.html#returning-a-view-versus-a-copy\n",
      "  df.drop(index = lower_array, inplace = True)\n"
     ]
    }
   ],
   "source": [
    "df.drop(index = upper_array, inplace = True)\n",
    "df.drop(index = lower_array, inplace = True)"
   ]
  },
  {
   "cell_type": "code",
   "execution_count": 21,
   "id": "6a4eaa73",
   "metadata": {},
   "outputs": [
    {
     "data": {
      "text/plain": [
       "(15401, 10)"
      ]
     },
     "execution_count": 21,
     "metadata": {},
     "output_type": "execute_result"
    }
   ],
   "source": [
    "df.shape"
   ]
  },
  {
   "cell_type": "code",
   "execution_count": null,
   "id": "6d6b71ef",
   "metadata": {},
   "outputs": [],
   "source": []
  },
  {
   "cell_type": "code",
   "execution_count": null,
   "id": "8788712a",
   "metadata": {},
   "outputs": [],
   "source": []
  },
  {
   "cell_type": "code",
   "execution_count": null,
   "id": "a186460c",
   "metadata": {},
   "outputs": [],
   "source": []
  },
  {
   "cell_type": "code",
   "execution_count": null,
   "id": "9eedffb4",
   "metadata": {},
   "outputs": [],
   "source": []
  },
  {
   "cell_type": "code",
   "execution_count": null,
   "id": "57f1809c",
   "metadata": {},
   "outputs": [],
   "source": []
  }
 ],
 "metadata": {
  "kernelspec": {
   "display_name": "Python 3 (ipykernel)",
   "language": "python",
   "name": "python3"
  },
  "language_info": {
   "codemirror_mode": {
    "name": "ipython",
    "version": 3
   },
   "file_extension": ".py",
   "mimetype": "text/x-python",
   "name": "python",
   "nbconvert_exporter": "python",
   "pygments_lexer": "ipython3",
   "version": "3.11.5"
  }
 },
 "nbformat": 4,
 "nbformat_minor": 5
}
